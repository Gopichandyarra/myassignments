{
 "cells": [
  {
   "cell_type": "markdown",
   "id": "c0ac28bd",
   "metadata": {},
   "source": [
    "# Question 1"
   ]
  },
  {
   "cell_type": "code",
   "execution_count": 52,
   "id": "ba4ce5c4",
   "metadata": {},
   "outputs": [
    {
     "name": "stdout",
     "output_type": "stream",
     "text": [
      "2002,2009,2016,2023,2037,2044,2051,2058,2072,2079,2086,2093,2107,2114,2121,2128,2142,2149,2156,2163,2177,2184,2191,2198,2212,2219,2226,2233,2247,2254,2261,2268,2282,2289,2296,2303,2317,2324,2331,2338,2352,2359,2366,2373,2387,2394,2401,2408,2422,2429,2436,2443,2457,2464,2471,2478,2492,2499,2506,2513,2527,2534,2541,2548,2562,2569,2576,2583,2597,2604,2611,2618,2632,2639,2646,2653,2667,2674,2681,2688,2702,2709,2716,2723,2737,2744,2751,2758,2772,2779,2786,2793,2807,2814,2821,2828,2842,2849,2856,2863,2877,2884,2891,2898,2912,2919,2926,2933,2947,2954,2961,2968,2982,2989,2996,"
     ]
    }
   ],
   "source": [
    "for i in range (2000,3001):\n",
    "    if i % 7 == 0:\n",
    "        if i % 5 == 0:\n",
    "            pass\n",
    "        else:\n",
    "            print(i, end=',')"
   ]
  },
  {
   "cell_type": "markdown",
   "id": "286d2594",
   "metadata": {},
   "source": [
    "# Question 2"
   ]
  },
  {
   "cell_type": "code",
   "execution_count": 53,
   "id": "4713a96f",
   "metadata": {
    "scrolled": true
   },
   "outputs": [
    {
     "name": "stdout",
     "output_type": "stream",
     "text": [
      "Please enter your first name and last name below:\n",
      "Yarra\n",
      "Gopichand\n",
      "Your name in reverse order: dnahcipoG arraY\n"
     ]
    }
   ],
   "source": [
    "print(\"Please enter your first name and last name below:\")\n",
    "first_name = input()\n",
    "last_name = input()\n",
    "full_name = [first_name,last_name]\n",
    "full_name = \" \".join(full_name)\n",
    "print(f\"Your name in reverse order: {full_name[::-1]}\")"
   ]
  },
  {
   "cell_type": "markdown",
   "id": "fe44a3e0",
   "metadata": {},
   "source": [
    "# Question 3"
   ]
  },
  {
   "cell_type": "code",
   "execution_count": 54,
   "id": "9511fcf4",
   "metadata": {},
   "outputs": [
    {
     "name": "stdout",
     "output_type": "stream",
     "text": [
      "Volume of sphere: 7238.016 cm^3\n"
     ]
    }
   ],
   "source": [
    "radius = 12\n",
    "pi = 3.1415\n",
    "volume = (4/3) * pi * radius ** 3\n",
    "print (f\"Volume of sphere: {volume} cm^3\")"
   ]
  },
  {
   "cell_type": "code",
   "execution_count": null,
   "id": "4e5f540b",
   "metadata": {},
   "outputs": [],
   "source": []
  },
  {
   "cell_type": "code",
   "execution_count": null,
   "id": "4f2ff0e7",
   "metadata": {},
   "outputs": [],
   "source": []
  },
  {
   "cell_type": "code",
   "execution_count": null,
   "id": "d465e4eb",
   "metadata": {},
   "outputs": [],
   "source": []
  },
  {
   "cell_type": "code",
   "execution_count": null,
   "id": "105e5a5c",
   "metadata": {},
   "outputs": [],
   "source": []
  },
  {
   "cell_type": "code",
   "execution_count": null,
   "id": "ee3e503b",
   "metadata": {},
   "outputs": [],
   "source": []
  },
  {
   "cell_type": "code",
   "execution_count": null,
   "id": "d28b07b3",
   "metadata": {},
   "outputs": [],
   "source": []
  }
 ],
 "metadata": {
  "kernelspec": {
   "display_name": "Python 3",
   "language": "python",
   "name": "python3"
  },
  "language_info": {
   "codemirror_mode": {
    "name": "ipython",
    "version": 3
   },
   "file_extension": ".py",
   "mimetype": "text/x-python",
   "name": "python",
   "nbconvert_exporter": "python",
   "pygments_lexer": "ipython3",
   "version": "3.8.8"
  }
 },
 "nbformat": 4,
 "nbformat_minor": 5
}
